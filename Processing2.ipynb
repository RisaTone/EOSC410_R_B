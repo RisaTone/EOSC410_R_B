{
 "cells": [
  {
   "cell_type": "markdown",
   "id": "98987b4a-504b-4067-adbc-ea8a4cbb9adb",
   "metadata": {},
   "source": [
    "# Final Project Analysis"
   ]
  },
  {
   "cell_type": "code",
   "execution_count": 1,
   "id": "67823287-2854-4ccc-afaa-0dcc188d8fe4",
   "metadata": {},
   "outputs": [],
   "source": [
    "import numpy as np\n",
    "import matplotlib.pyplot as plt\n",
    "from sklearn.decomposition import PCA\n",
    "import netCDF4 as nc\n",
    "import xarray as xr\n",
    "import datetime\n",
    "import pandas as pd"
   ]
  },
  {
   "cell_type": "code",
   "execution_count": 2,
   "id": "7d0236f4-6825-4a74-a61d-f1190a24026a",
   "metadata": {},
   "outputs": [
    {
     "name": "stdout",
     "output_type": "stream",
     "text": [
      "<class 'netCDF4.Dataset'>\n",
      "root group (NETCDF3_CLASSIC data model, file format NETCDF3):\n",
      "    Conventions: CF-1.4\n",
      "    created_by: R, packages ncdf4 and raster (version 3.6-26)\n",
      "    date: 2024-11-14 14:10:30\n",
      "    dimensions(sizes): longitude(314), latitude(217), z(941)\n",
      "    variables(dimensions): int32 crs(), float64 longitude(longitude), float64 latitude(latitude), int32 z(z), float32 variable(z, latitude, longitude)\n",
      "    groups: \n"
     ]
    }
   ],
   "source": [
    "data = nc.Dataset('CHL_Data410.nc')\n",
    "print(data) "
   ]
  },
  {
   "cell_type": "code",
   "execution_count": 3,
   "id": "bf348138-26ad-432d-a884-2774111af886",
   "metadata": {},
   "outputs": [
    {
     "name": "stdout",
     "output_type": "stream",
     "text": [
      "dict_keys(['crs', 'longitude', 'latitude', 'z', 'variable'])\n"
     ]
    }
   ],
   "source": [
    "print(data.variables.keys()) # get all variable names\n",
    "CHL = data.variables['variable']  # temperature variable\n",
    "Z = data.variables['z']\n",
    "Lon = data.variables['longitude']\n",
    "Lat = data.variables['latitude']"
   ]
  },
  {
   "cell_type": "code",
   "execution_count": 5,
   "id": "38c22f00-3da7-443a-900f-c52c83b160af",
   "metadata": {},
   "outputs": [],
   "source": [
    "Chl = np.array(CHL)\n",
    "z = np.array(Z)\n",
    "lon = np.array(Lon)\n",
    "lat = np.array(Lat)"
   ]
  },
  {
   "cell_type": "code",
   "execution_count": 31,
   "id": "009cf59e-3b2b-4857-af54-7569c7a2a25b",
   "metadata": {},
   "outputs": [],
   "source": [
    "# Define the start and end dates \n",
    "#start_date = datetime.datetime(2002, 7, 4)\n",
    "#end_date = datetime.datetime(2024, 10, 31)\n",
    "\n",
    "# Create an array of dates from start to end with an 8-day interval\n",
    "#dates = np.arange(start_date, end_date + datetime.timedelta(days=1), datetime.timedelta(days=8)).astype('datetime64[D]')"
   ]
  },
  {
   "cell_type": "code",
   "execution_count": 6,
   "id": "947a0579-6d2e-452c-8f8a-f33f145ec67f",
   "metadata": {},
   "outputs": [],
   "source": [
    "time410 = pd.read_csv('time410.csv')\n",
    "x = np.array(time410.x)\n",
    "dates = pd.to_datetime(x, format='%Y%m%d').date\n",
    "dates = dates.astype('datetime64[D]')"
   ]
  },
  {
   "cell_type": "code",
   "execution_count": 7,
   "id": "2fd64bf6-ba68-44cb-b485-223a2a811504",
   "metadata": {},
   "outputs": [
    {
     "data": {
      "text/plain": [
       "(941,)"
      ]
     },
     "execution_count": 7,
     "metadata": {},
     "output_type": "execute_result"
    }
   ],
   "source": [
    "dates.shape"
   ]
  },
  {
   "cell_type": "code",
   "execution_count": 8,
   "id": "eb6ccb12-0e80-4bbe-9806-39d8421deca4",
   "metadata": {},
   "outputs": [
    {
     "name": "stdout",
     "output_type": "stream",
     "text": [
      "(941, 217, 314)\n",
      "(314,)\n",
      "(217,)\n"
     ]
    }
   ],
   "source": [
    "print(Chl.shape)\n",
    "print(lon.shape)\n",
    "print(lat.shape)\n"
   ]
  },
  {
   "cell_type": "code",
   "execution_count": 15,
   "id": "606bfef3-7870-4338-9a44-05906f39496b",
   "metadata": {},
   "outputs": [],
   "source": [
    "#np.savetxt(\"lon.csv\", lon, delimiter = \",\")\n",
    "#np.savetxt(\"lat.csv\", lat, delimiter = \",\")\n",
    "#np.savetxt(\"dates.csv\", dates, delimiter = \",\")"
   ]
  },
  {
   "cell_type": "code",
   "execution_count": null,
   "id": "eeace3b2-ab0e-463b-81ff-c6108e61091d",
   "metadata": {},
   "outputs": [],
   "source": [
    "# Reshape the 3D array to 2D\n",
    "#Chl_reshaped = Chl.reshape(Chl.shape[0], -1)\n",
    " \n",
    "# Save the 2D array to a CSV file\n",
    "#np.savetxt(\"Chl_reshaped.csv\", Chl_reshaped, delimiter=\",\")\n",
    " "
   ]
  }
 ],
 "metadata": {
  "kernelspec": {
   "display_name": "Python 3 (ipykernel)",
   "language": "python",
   "name": "python3"
  },
  "language_info": {
   "codemirror_mode": {
    "name": "ipython",
    "version": 3
   },
   "file_extension": ".py",
   "mimetype": "text/x-python",
   "name": "python",
   "nbconvert_exporter": "python",
   "pygments_lexer": "ipython3",
   "version": "3.11.9"
  }
 },
 "nbformat": 4,
 "nbformat_minor": 5
}
