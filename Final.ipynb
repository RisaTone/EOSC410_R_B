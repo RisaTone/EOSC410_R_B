{
 "cells": [
  {
   "cell_type": "markdown",
   "id": "f16ab653-5db0-4f29-b26f-9eb82ce52db0",
   "metadata": {},
   "source": [
    "# Final Project  \n",
    "Boxi Wu  \n",
    "Risako Tonegawa"
   ]
  },
  {
   "cell_type": "code",
   "execution_count": 3,
   "id": "541c5350-f3a2-4c01-b232-0d9bf3df38fc",
   "metadata": {},
   "outputs": [
    {
     "name": "stdout",
     "output_type": "stream",
     "text": [
      "\u001b[33mWARNING: Skipping /opt/conda/lib/python3.11/site-packages/nlopt-2.7.1.dist-info due to invalid metadata entry 'name'\u001b[0m\u001b[33m\n",
      "\u001b[0m\u001b[33mWARNING: Skipping /opt/conda/lib/python3.11/site-packages/nlopt-2.7.1.dist-info due to invalid metadata entry 'name'\u001b[0m\u001b[33m\n",
      "\u001b[0mCollecting xarray\n",
      "  Using cached xarray-2024.10.0-py3-none-any.whl.metadata (11 kB)\n",
      "Requirement already satisfied: numpy>=1.24 in /opt/conda/lib/python3.11/site-packages (from xarray) (1.26.4)\n",
      "Requirement already satisfied: packaging>=23.1 in /opt/conda/lib/python3.11/site-packages (from xarray) (24.0)\n",
      "Requirement already satisfied: pandas>=2.1 in /opt/conda/lib/python3.11/site-packages (from xarray) (2.2.2)\n",
      "Requirement already satisfied: python-dateutil>=2.8.2 in /opt/conda/lib/python3.11/site-packages (from pandas>=2.1->xarray) (2.9.0)\n",
      "Requirement already satisfied: pytz>=2020.1 in /opt/conda/lib/python3.11/site-packages (from pandas>=2.1->xarray) (2024.1)\n",
      "Requirement already satisfied: tzdata>=2022.7 in /opt/conda/lib/python3.11/site-packages (from pandas>=2.1->xarray) (2024.1)\n",
      "Requirement already satisfied: six>=1.5 in /opt/conda/lib/python3.11/site-packages (from python-dateutil>=2.8.2->pandas>=2.1->xarray) (1.16.0)\n",
      "Using cached xarray-2024.10.0-py3-none-any.whl (1.2 MB)\n",
      "\u001b[33mWARNING: Skipping /opt/conda/lib/python3.11/site-packages/nlopt-2.7.1.dist-info due to invalid metadata entry 'name'\u001b[0m\u001b[33m\n",
      "\u001b[0mInstalling collected packages: xarray\n",
      "Successfully installed xarray-2024.10.0\n",
      "\u001b[33mWARNING: Skipping /opt/conda/lib/python3.11/site-packages/nlopt-2.7.1.dist-info due to invalid metadata entry 'name'\u001b[0m\u001b[33m\n",
      "\u001b[0mNote: you may need to restart the kernel to use updated packages.\n"
     ]
    }
   ],
   "source": [
    "pip install \"xarray\""
   ]
  },
  {
   "cell_type": "code",
   "execution_count": 2,
   "id": "6b2eb88e-1cff-4a35-9114-fb61c94150dd",
   "metadata": {},
   "outputs": [
    {
     "name": "stdout",
     "output_type": "stream",
     "text": [
      "\u001b[33mWARNING: Skipping /opt/conda/lib/python3.11/site-packages/nlopt-2.7.1.dist-info due to invalid metadata entry 'name'\u001b[0m\u001b[33m\n",
      "\u001b[0m\u001b[33mWARNING: Skipping /opt/conda/lib/python3.11/site-packages/nlopt-2.7.1.dist-info due to invalid metadata entry 'name'\u001b[0m\u001b[33m\n",
      "\u001b[0mCollecting netCDF4\n",
      "  Using cached netCDF4-1.7.2-cp311-cp311-manylinux_2_17_x86_64.manylinux2014_x86_64.whl.metadata (1.8 kB)\n",
      "Collecting cftime (from netCDF4)\n",
      "  Using cached cftime-1.6.4.post1-cp311-cp311-manylinux_2_17_x86_64.manylinux2014_x86_64.whl.metadata (8.7 kB)\n",
      "Requirement already satisfied: certifi in /opt/conda/lib/python3.11/site-packages (from netCDF4) (2024.7.4)\n",
      "Requirement already satisfied: numpy in /opt/conda/lib/python3.11/site-packages (from netCDF4) (1.26.4)\n",
      "Using cached netCDF4-1.7.2-cp311-cp311-manylinux_2_17_x86_64.manylinux2014_x86_64.whl (9.3 MB)\n",
      "Using cached cftime-1.6.4.post1-cp311-cp311-manylinux_2_17_x86_64.manylinux2014_x86_64.whl (1.4 MB)\n",
      "\u001b[33mWARNING: Skipping /opt/conda/lib/python3.11/site-packages/nlopt-2.7.1.dist-info due to invalid metadata entry 'name'\u001b[0m\u001b[33m\n",
      "\u001b[0mInstalling collected packages: cftime, netCDF4\n",
      "Successfully installed cftime-1.6.4.post1 netCDF4-1.7.2\n",
      "\u001b[33mWARNING: Skipping /opt/conda/lib/python3.11/site-packages/nlopt-2.7.1.dist-info due to invalid metadata entry 'name'\u001b[0m\u001b[33m\n",
      "\u001b[0mNote: you may need to restart the kernel to use updated packages.\n"
     ]
    }
   ],
   "source": [
    "pip install \"netCDF4\""
   ]
  },
  {
   "cell_type": "code",
   "execution_count": 4,
   "id": "f42a6d90-dd17-4304-bebf-2c231d85050d",
   "metadata": {},
   "outputs": [],
   "source": [
    "import datetime\n",
    "import matplotlib.pyplot as plt\n",
    "import netCDF4 as nc\n",
    "import numpy as np\n",
    "import pandas as pd\n",
    "import xarray as xr\n",
    "from sklearn.decomposition import PCA"
   ]
  },
  {
   "cell_type": "code",
   "execution_count": 7,
   "id": "a8e12525-e93d-48de-b1f7-5198b095f96c",
   "metadata": {},
   "outputs": [],
   "source": [
    "# Load the CHL data in a following way\n",
    "Chl = np.loadtxt(\"Chl_reshaped.csv\", delimiter=\",\")\n",
    "# Reshape the 2D array back to its original 3D shape\n",
    "Chl = Chl.reshape((941, 217, 314))"
   ]
  },
  {
   "cell_type": "code",
   "execution_count": 8,
   "id": "a1b5c2fa-5f0f-48b3-a4bc-69021eda4d7f",
   "metadata": {},
   "outputs": [
    {
     "data": {
      "text/plain": [
       "(941, 217, 314)"
      ]
     },
     "execution_count": 8,
     "metadata": {},
     "output_type": "execute_result"
    }
   ],
   "source": [
    "#If the shape of Chl is (941, 217, 314), it's all good\n",
    "Chl.shape"
   ]
  },
  {
   "cell_type": "code",
   "execution_count": 9,
   "id": "1ca93d78-b187-46d0-be8f-fafad683a766",
   "metadata": {},
   "outputs": [],
   "source": [
    "#Load the dates data in a following way\n",
    "time410 = pd.read_csv('time410.csv')\n",
    "x = np.array(time410.x)\n",
    "dates = pd.to_datetime(x, format='%Y%m%d').date\n",
    "dates = dates.astype('datetime64[D]')"
   ]
  },
  {
   "cell_type": "code",
   "execution_count": 10,
   "id": "f980c622-2b79-43c7-9f1d-ab476ae8a22d",
   "metadata": {},
   "outputs": [
    {
     "data": {
      "text/plain": [
       "(941,)"
      ]
     },
     "execution_count": 10,
     "metadata": {},
     "output_type": "execute_result"
    }
   ],
   "source": [
    "#If the shape of dates is (941,), it's all good\n",
    "dates.shape"
   ]
  },
  {
   "cell_type": "code",
   "execution_count": 11,
   "id": "96c5107f-28b3-4ae5-b199-4d39d6ce11fa",
   "metadata": {},
   "outputs": [],
   "source": [
    "#load longitudes and latitudes\n",
    "lat = np.loadtxt(\"lat.csv\", delimiter=\",\")\n",
    "lon = np.loadtxt(\"lon.csv\", delimiter=\",\")"
   ]
  },
  {
   "cell_type": "code",
   "execution_count": null,
   "id": "c53c9ada-e7bc-4a84-9b8e-6b025986e5db",
   "metadata": {},
   "outputs": [],
   "source": []
  }
 ],
 "metadata": {
  "kernelspec": {
   "display_name": "Python 3 (ipykernel)",
   "language": "python",
   "name": "python3"
  },
  "language_info": {
   "codemirror_mode": {
    "name": "ipython",
    "version": 3
   },
   "file_extension": ".py",
   "mimetype": "text/x-python",
   "name": "python",
   "nbconvert_exporter": "python",
   "pygments_lexer": "ipython3",
   "version": "3.11.9"
  }
 },
 "nbformat": 4,
 "nbformat_minor": 5
}
